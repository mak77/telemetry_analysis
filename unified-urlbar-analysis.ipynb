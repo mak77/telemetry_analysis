{
 "cells": [
  {
   "cell_type": "markdown",
   "metadata": {},
   "source": [
    "Telemetry analysis for unified-urlbar experiment.\n",
    "https://bugzilla.mozilla.org/show_bug.cgi?id=1219505"
   ]
  },
  {
   "cell_type": "code",
   "execution_count": 1,
   "metadata": {
    "collapsed": false
   },
   "outputs": [
    {
     "name": "stdout",
     "output_type": "stream",
     "text": [
      "Populating the interactive namespace from numpy and matplotlib\n"
     ]
    }
   ],
   "source": [
    "import pandas as pd\n",
    "import ujson as json\n",
    "import numpy as np\n",
    "\n",
    "%pylab inline"
   ]
  },
  {
   "cell_type": "markdown",
   "metadata": {},
   "source": [
    "Read previously stored experiment data."
   ]
  },
  {
   "cell_type": "code",
   "execution_count": 2,
   "metadata": {
    "collapsed": false
   },
   "outputs": [
    {
     "data": {
      "text/plain": [
       "255483"
      ]
     },
     "execution_count": 2,
     "metadata": {},
     "output_type": "execute_result"
    }
   ],
   "source": [
    "s3_path = \"s3n://net-mozaws-prod-us-west-2-pipeline-analysis/mak/unified-urlbar/v1/\"\n",
    "data = sc.textFile(s3_path)\n",
    "data.count()"
   ]
  },
  {
   "cell_type": "code",
   "execution_count": 3,
   "metadata": {
    "collapsed": false
   },
   "outputs": [
    {
     "data": {
      "text/plain": [
       "{'clientId': u'37e652d8-e938-4e67-8208-7456edd2df9e',\n",
       " 'environment/addons/activeExperiment/branch': u'unified',\n",
       " 'environment/addons/activeExperiment/id': u'unified-urlbar@experiments.mozilla.org',\n",
       " 'environment/settings/defaultSearchEngine': u'google',\n",
       " 'environment/settings/userPrefs/browser.urlbar.suggest.searches': None,\n",
       " 'environment/settings/userPrefs/browser.urlbar.userMadeSearchSuggestionsChoice': None,\n",
       " 'payload/histograms/FX_URLBAR_SELECTED_RESULT_TYPE': 0,\n",
       " 'payload/simpleMeasurements/UITelemetry/toolbars/countableEvents/__DEFAULT__/click-builtin-item/searchbar/search-settings': None,\n",
       " 'payload/simpleMeasurements/UITelemetry/toolbars/countableEvents/__DEFAULT__/click-builtin-item/urlbar/search-settings': None,\n",
       " 'payload/simpleMeasurements/UITelemetry/toolbars/countableEvents/__DEFAULT__/search-oneoff': None,\n",
       " 'payload/simpleMeasurements/UITelemetry/toolbars/countableEvents/__DEFAULT__/search/abouthome': None,\n",
       " 'payload/simpleMeasurements/UITelemetry/toolbars/countableEvents/__DEFAULT__/search/newtab': None,\n",
       " 'payload/simpleMeasurements/UITelemetry/toolbars/countableEvents/__DEFAULT__/search/searchbar': None,\n",
       " 'payload/simpleMeasurements/UITelemetry/toolbars/countableEvents/__DEFAULT__/search/urlbar': None,\n",
       " 'payload/simpleMeasurements/UITelemetry/toolbars/defaultKept': False}"
      ]
     },
     "execution_count": 3,
     "metadata": {},
     "output_type": "execute_result"
    }
   ],
   "source": [
    "experiment_data = data.map(lambda d: eval(d))\n",
    "experiment_data.first()"
   ]
  },
  {
   "cell_type": "markdown",
   "metadata": {},
   "source": [
    "Normalize number of samples."
   ]
  },
  {
   "cell_type": "code",
   "execution_count": 4,
   "metadata": {
    "collapsed": false
   },
   "outputs": [],
   "source": [
    "c = experiment_data.map(lambda d: (d[\"environment/addons/activeExperiment/branch\"])).countByValue()\n",
    "normalized_c = min(c[\"control\"], c[\"unified\"])\n",
    "control_data = sc.parallelize(experiment_data.filter(lambda d: d[\"environment/addons/activeExperiment/branch\"] == \"control\").take(normalized_c))\n",
    "unified_data = sc.parallelize(experiment_data.filter(lambda d: d[\"environment/addons/activeExperiment/branch\"] == \"unified\").take(normalized_c))\n",
    "customized_data = experiment_data.filter(lambda d: d[\"environment/addons/activeExperiment/branch\"] == \"customized\")"
   ]
  },
  {
   "cell_type": "markdown",
   "metadata": {},
   "source": [
    "Analyze data."
   ]
  },
  {
   "cell_type": "code",
   "execution_count": 5,
   "metadata": {
    "collapsed": false
   },
   "outputs": [],
   "source": [
    "class Accumulator():\n",
    "    def __init__(self, cx):\n",
    "        # number of analyzed pings\n",
    "        self.ping_count = cx.accumulator(0)\n",
    "        # number of searches from the search bar\n",
    "        self.searchbar_searches = cx.accumulator(0)\n",
    "        # search coming from urlbar oneoff\n",
    "        self.from_searchbar_oneoff = cx.accumulator(0)\n",
    "        # number of searches from the urlbar\n",
    "        self.urlbar_searches = cx.accumulator(0)\n",
    "        # number of searches from the about:home\n",
    "        self.home_searches = cx.accumulator(0)\n",
    "        # number of searches from the about:newtab\n",
    "        self.newtab_searches = cx.accumulator(0)\n",
    "        # search coming from urlbar suggestion\n",
    "        self.from_urlbar_suggestion = cx.accumulator(0)\n",
    "        # search coming from urlbar oneoff\n",
    "        self.from_urlbar_oneoff = cx.accumulator(0)\n",
    "        # has urlbar suggestions enabled\n",
    "        self.has_suggestions = cx.accumulator(0)\n",
    "        # made urlbar suggestions choice\n",
    "        self.made_choice = cx.accumulator(0)\n",
    "        # disabled urlbar suggestions\n",
    "        self.disabled_suggestions = cx.accumulator(0)\n",
    "        # search bar on nav-bar\n",
    "        self.has_searchbar = cx.accumulator(0)\n",
    "        # did any search\n",
    "        self.ping_has_searches = cx.accumulator(0)\n",
    "        # total number of searches\n",
    "        self.total_searches = cx.accumulator(0)\n",
    "        # searchbar settings\n",
    "        self.searchbar_settings = cx.accumulator(0)\n",
    "        # urlbar settings\n",
    "        self.urlbar_settings = cx.accumulator(0)\n",
    "\n",
    "def process_data(acc, d):\n",
    "    acc.ping_count.add(1)\n",
    "\n",
    "    has_suggestions = d[\"environment/settings/userPrefs/browser.urlbar.suggest.searches\"]\n",
    "    if has_suggestions is True:\n",
    "        acc.has_suggestions.add(1)\n",
    "\n",
    "    made_choice = d[\"environment/settings/userPrefs/browser.urlbar.userMadeSearchSuggestionsChoice\"]\n",
    "    if made_choice is True:\n",
    "        acc.made_choice.add(1)\n",
    "        if has_suggestions is not True:\n",
    "            acc.disabled_suggestions.add(1)\n",
    "\n",
    "    ping_has_searches = False\n",
    "    searchbar_searches = d[\"payload/simpleMeasurements/UITelemetry/toolbars/countableEvents/__DEFAULT__/search/searchbar\"]\n",
    "    if searchbar_searches is not None:\n",
    "        acc.searchbar_searches.add(searchbar_searches)\n",
    "        acc.total_searches.add(searchbar_searches)\n",
    "        ping_has_searches = True\n",
    "\n",
    "    urlbar_searches = d[\"payload/simpleMeasurements/UITelemetry/toolbars/countableEvents/__DEFAULT__/search/urlbar\"]\n",
    "    if urlbar_searches is not None:\n",
    "        acc.urlbar_searches.add(urlbar_searches)\n",
    "        acc.total_searches.add(urlbar_searches)\n",
    "        ping_has_searches = True\n",
    "\n",
    "    home_searches = d[\"payload/simpleMeasurements/UITelemetry/toolbars/countableEvents/__DEFAULT__/search/abouthome\"]\n",
    "    if home_searches is not None:\n",
    "        acc.home_searches.add(home_searches)\n",
    "        acc.total_searches.add(home_searches)\n",
    "        ping_has_searches = True\n",
    "\n",
    "    newtab_searches = d[\"payload/simpleMeasurements/UITelemetry/toolbars/countableEvents/__DEFAULT__/search/newtab\"]\n",
    "    if newtab_searches is not None:\n",
    "        acc.newtab_searches.add(newtab_searches)\n",
    "        acc.total_searches.add(newtab_searches)\n",
    "        ping_has_searches = True\n",
    "\n",
    "    widgetsInDefaultPosition = d[\"payload/simpleMeasurements/UITelemetry/toolbars/defaultKept\"]\n",
    "    if widgetsInDefaultPosition is not None:\n",
    "        if widgetsInDefaultPosition:\n",
    "            acc.has_searchbar.add(1)\n",
    "\n",
    "    from_urlbar_suggestion = d[\"payload/histograms/FX_URLBAR_SELECTED_RESULT_TYPE\"]\n",
    "    if from_urlbar_suggestion is not None:\n",
    "        acc.from_urlbar_suggestion.add(from_urlbar_suggestion)\n",
    "\n",
    "    oneoff = d[\"payload/simpleMeasurements/UITelemetry/toolbars/countableEvents/__DEFAULT__/search-oneoff\"]\n",
    "    if oneoff is not None:\n",
    "        for o in {k:v for (k,v) in oneoff.iteritems() if \"urlbar\" in k and \"oneoff\" in k}.values():\n",
    "            for v in o.values():\n",
    "                acc.from_urlbar_oneoff.add(sum(v.values()))\n",
    "\n",
    "        for o in {k:v for (k,v) in oneoff.iteritems() if \"urlbar\" not in k and \"oneoff\" in k}.values():\n",
    "            for v in o.values():\n",
    "                acc.from_searchbar_oneoff.add(sum(v.values()))\n",
    "                acc.searchbar_searches.add(sum(v.values()))\n",
    "                acc.total_searches.add(sum(v.values()))\n",
    "                ping_has_searches = True\n",
    "\n",
    "        for o in {k:v for (k,v) in oneoff.iteritems() if \"urlbar\" not in k and \"oneoff\" not in k}.values():\n",
    "            for v in o.values():\n",
    "                acc.searchbar_searches.add(sum(v.values()))\n",
    "                acc.total_searches.add(sum(v.values()))\n",
    "                ping_has_searches = True\n",
    "\n",
    "    if ping_has_searches is True:\n",
    "        acc.ping_has_searches.add(1)\n",
    "\n",
    "    urlbar_settings = d[\"payload/simpleMeasurements/UITelemetry/toolbars/countableEvents/__DEFAULT__/click-builtin-item/searchbar/search-settings\"]\n",
    "    if urlbar_settings is not None:\n",
    "        acc.urlbar_settings.add(urlbar_settings)\n",
    "\n",
    "    searchbar_settings = d[\"payload/simpleMeasurements/UITelemetry/toolbars/countableEvents/__DEFAULT__/click-builtin-item/searchbar/search-settings\"]\n",
    "    if searchbar_settings is not None:\n",
    "        acc.searchbar_settings.add(searchbar_settings)\n",
    "\n",
    "control = Accumulator(sc)\n",
    "control_data.foreach(lambda d: process_data(control, d))\n",
    "unified = Accumulator(sc)\n",
    "unified_data.foreach(lambda d: process_data(unified, d))\n",
    "customized = Accumulator(sc)\n",
    "customized_data.foreach(lambda d: process_data(customized, d))"
   ]
  },
  {
   "cell_type": "markdown",
   "metadata": {},
   "source": [
    "Print results."
   ]
  },
  {
   "cell_type": "code",
   "execution_count": 6,
   "metadata": {
    "collapsed": false
   },
   "outputs": [
    {
     "name": "stdout",
     "output_type": "stream",
     "text": [
      "                                       control         unified      customized\n",
      "number of users                         124804          124804            5267\n",
      "total search volume                     123895           87146            4285\n",
      "users who searched                      29.07%          27.24%          23.18%\n",
      "\n",
      "from urlbar                             23.80%          46.93%          62.08%\n",
      "  from suggestion                        1.34%           1.29%           1.05%\n",
      "  from one-off                           0.00%           2.21%           0.64%\n",
      "\n",
      "from searchbar                          47.79%           7.12%          11.11%\n",
      "  from one-off                           4.16%           2.35%           5.25%\n",
      "\n",
      "from about:home                         18.08%          27.26%          12.60%\n",
      "from about:newtab                       10.32%          18.70%          14.21%\n",
      "\n",
      "made suggestions choice                 23.85%          23.34%          25.40%\n",
      "  enabled urlbar suggestions            51.68%          52.62%          59.87%\n",
      "  disabled urlbar suggestions           50.75%          50.33%          45.67%\n",
      "\n",
      "searchbar in nav-bar                    99.94%           7.40%          18.13%\n",
      "searchbar settings button                0.07%           0.01%           0.00%\n",
      "urlbar settings button                   0.07%           0.01%           0.00%\n"
     ]
    }
   ],
   "source": [
    "def pval(name, type, a1, a2, a3):\n",
    "    print (\"{:30s} {:>15\" + type + \"} {:>15\" + type + \"} {:>15\" + type + \"}\").format(name, a1, a2, a3)\n",
    "\n",
    "def pper(name, v, t, a1, a2, a3):\n",
    "    def perc(acc):\n",
    "          return (float(getattr(acc, v).value) / getattr(acc, t).value) * 100\n",
    "    print (\"{:30s} {:>14.2f}% {:>14.2f}% {:>14.2f}%\").format(name, perc(a1), perc(a2), perc(a3))\n",
    "\n",
    "pval(\"\", \"s\", \"control\", \"unified\", \"customized\")\n",
    "pval(\"number of users\", \"d\", control.ping_count.value, unified.ping_count.value, customized.ping_count.value)\n",
    "pval(\"total search volume\", \"d\", control.total_searches.value, unified.total_searches.value, customized.total_searches.value)\n",
    "pper(\"users who searched\", \"ping_has_searches\", \"ping_count\", control, unified, customized)\n",
    "print \"\"\n",
    "#pval(\"from urlbar\", \"d\", control.urlbar_searches.value, unified.urlbar_searches.value, customized.urlbar_searches.value)\n",
    "pper(\"from urlbar\", \"urlbar_searches\", \"total_searches\", control, unified, customized)\n",
    "#pval(\"  from urlbar suggestion\", \"d\", control.from_urlbar_suggestion.value, unified.from_urlbar_suggestion.value, customized.from_urlbar_suggestion.value)\n",
    "pper(\"  from suggestion\", \"from_urlbar_suggestion\", \"urlbar_searches\", control, unified, customized)\n",
    "#pval(\"  from urlbar one-off\", \"d\", control.from_urlbar_oneoff.value, unified.from_urlbar_oneoff.value, customized.from_urlbar_oneoff.value)\n",
    "pper(\"  from one-off\", \"from_urlbar_oneoff\", \"urlbar_searches\", control, unified, customized)\n",
    "print \"\"\n",
    "pper(\"from searchbar\", \"searchbar_searches\", \"total_searches\", control, unified, customized)\n",
    "#pval(\"  from searchbar one-off\", \"d\", control.from_searchbar_oneoff.value, unified.from_searchbar_oneoff.value, customized.from_searchbar_oneoff.value)\n",
    "pper(\"  from one-off\", \"from_searchbar_oneoff\", \"searchbar_searches\", control, unified, customized)\n",
    "print \"\"\n",
    "pper(\"from about:home\", \"home_searches\", \"total_searches\", control, unified, customized)\n",
    "pper(\"from about:newtab\", \"newtab_searches\", \"total_searches\", control, unified, customized)\n",
    "print \"\"\n",
    "pper(\"made suggestions choice\", \"made_choice\", \"ping_count\", control, unified, customized)\n",
    "pper(\"  enabled urlbar suggestions\", \"has_suggestions\", \"made_choice\", control, unified, customized)\n",
    "pper(\"  disabled urlbar suggestions\", \"disabled_suggestions\", \"made_choice\", control, unified, customized)\n",
    "print \"\"\n",
    "pper(\"searchbar in nav-bar\", \"has_searchbar\", \"ping_count\", control, unified, customized)\n",
    "pper(\"searchbar settings button\", \"searchbar_settings\", \"ping_count\", control, unified, customized)\n",
    "pper(\"urlbar settings button\", \"urlbar_settings\", \"ping_count\", control, unified, customized)"
   ]
  },
  {
   "cell_type": "code",
   "execution_count": null,
   "metadata": {
    "collapsed": true
   },
   "outputs": [],
   "source": []
  }
 ],
 "metadata": {
  "kernelspec": {
   "display_name": "Python 2",
   "language": "python",
   "name": "python2"
  },
  "language_info": {
   "codemirror_mode": {
    "name": "ipython",
    "version": 2
   },
   "file_extension": ".py",
   "mimetype": "text/x-python",
   "name": "python",
   "nbconvert_exporter": "python",
   "pygments_lexer": "ipython2",
   "version": "2.7.11"
  }
 },
 "nbformat": 4,
 "nbformat_minor": 0
}

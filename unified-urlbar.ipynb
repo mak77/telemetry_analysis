{
 "cells": [
  {
   "cell_type": "markdown",
   "metadata": {},
   "source": [
    "Telemetry analysis for unified-urlbar experiment.\n",
    "https://bugzilla.mozilla.org/show_bug.cgi?id=1219505"
   ]
  },
  {
   "cell_type": "code",
   "execution_count": 247,
   "metadata": {
    "collapsed": false
   },
   "outputs": [
    {
     "name": "stdout",
     "output_type": "stream",
     "text": [
      "Populating the interactive namespace from numpy and matplotlib\n"
     ]
    }
   ],
   "source": [
    "import pandas as pd\n",
    "import ujson as json\n",
    "import numpy as np\n",
    "\n",
    "from moztelemetry import get_pings, get_pings_properties, get_one_ping_per_client\n",
    "\n",
    "%pylab inline"
   ]
  },
  {
   "cell_type": "markdown",
   "metadata": {},
   "source": [
    "Define the pings we care about.\n",
    "The experiment ran on Firefox Beta 44 and 45, between Jan 11th and Feb 24th.\n",
    "We care about \"main\" telemetry pings.\n",
    "\n",
    "NOTE: For now, while we are developing the notebook, we only take a small fraction for a single day."
   ]
  },
  {
   "cell_type": "code",
   "execution_count": 248,
   "metadata": {
    "collapsed": false
   },
   "outputs": [
    {
     "data": {
      "text/plain": [
       "52488"
      ]
     },
     "execution_count": 248,
     "metadata": {},
     "output_type": "execute_result"
    }
   ],
   "source": [
    "PING_OPTIONS = {\n",
    "    \"app\": \"Firefox\",\n",
    "    \"channel\": \"beta\",\n",
    "    \"version\": (\"44.0\", \"45.0\"),\n",
    "    \"build_id\": \"*\",\n",
    "    \"submission_date\": \"20160114\",\n",
    "    \"fraction\": 0.01\n",
    "}\n",
    "pings = get_pings(sc, doc_type=\"main\", **PING_OPTIONS)\n",
    "\n",
    "pings.count()"
   ]
  },
  {
   "cell_type": "markdown",
   "metadata": {},
   "source": [
    "We only need a subset of the ping data."
   ]
  },
  {
   "cell_type": "code",
   "execution_count": 249,
   "metadata": {
    "collapsed": false
   },
   "outputs": [],
   "source": [
    "pings_data = get_pings_properties(pings,\n",
    "                                  [\"clientId\",\n",
    "                                   \"environment/addons/activeExperiment/id\",\n",
    "                                   \"environment/addons/activeExperiment/branch\",\n",
    "                                   \"environment/settings/defaultSearchEngine\",\n",
    "                                   \"environment/settings/userPrefs/browser.urlbar.suggest.searches\",\n",
    "                                   \"environment/settings/userPrefs/browser.urlbar.userMadeSearchSuggestionsChoice\",\n",
    "                                   \"payload/simpleMeasurements/UITelemetry/toolbars/defaultKept\",\n",
    "                                   \"payload/simpleMeasurements/UITelemetry/toolbars/countableEvents/__DEFAULT__/search/searchbar\",\n",
    "                                   \"payload/simpleMeasurements/UITelemetry/toolbars/countableEvents/__DEFAULT__/search/urlbar\",\n",
    "                                   \"payload/simpleMeasurements/UITelemetry/toolbars/countableEvents/__DEFAULT__/search\",\n",
    "                                   \"payload/simpleMeasurements/UITelemetry/toolbars/countableEvents/__DEFAULT__/search-oneoff\",\n",
    "                                   \"payload/simpleMeasurements/UITelemetry/toolbars/countableEvents/__DEFAULT__/click-builtin-item/urlbar/search-settings\",\n",
    "                                   \"payload/simpleMeasurements/UITelemetry/toolbars/countableEvents/__DEFAULT__/click-builtin-item/searchbar/search-settings\",\n",
    "                                   \"payload/histograms/FX_URLBAR_SELECTED_RESULT_TYPE\"])"
   ]
  },
  {
   "cell_type": "markdown",
   "metadata": {},
   "source": [
    "To prevent pseudoreplication, let's consider only a single submission for each client. As this step requires a distributed shuffle, it should always be run only after extracting the attributes of interest with get_pings_properties."
   ]
  },
  {
   "cell_type": "code",
   "execution_count": 250,
   "metadata": {
    "collapsed": false
   },
   "outputs": [
    {
     "data": {
      "text/plain": [
       "38187"
      ]
     },
     "execution_count": 250,
     "metadata": {},
     "output_type": "execute_result"
    }
   ],
   "source": [
    "pings_data = get_one_ping_per_client(pings_data)\n",
    "pings_data.count()"
   ]
  },
  {
   "cell_type": "markdown",
   "metadata": {},
   "source": [
    "Only consider pings from users having the experiment.\n",
    "Also discard users not having a default urlbar."
   ]
  },
  {
   "cell_type": "code",
   "execution_count": 251,
   "metadata": {
    "collapsed": false
   },
   "outputs": [],
   "source": [
    "def experiment_filter(d):\n",
    "    toolbar = d[\"payload/simpleMeasurements/UITelemetry/toolbars/defaultKept\"]\n",
    "    try:\n",
    "        return d[\"environment/addons/activeExperiment/id\"] == \"unified-urlbar@experiments.mozilla.org\" \\\n",
    "            and d[\"environment/addons/activeExperiment/branch\"] in (\"control\", \"unified\", \"customized\") \\\n",
    "            and toolbar is not None and \"urlbar-container\" in toolbar\n",
    "    except KeyError:\n",
    "        raise ValueError(\"Whoa nellie, missing a key: \" + repr(d))\n",
    "\n",
    "experiment_data = pings_data.filter(experiment_filter).cache()"
   ]
  },
  {
   "cell_type": "markdown",
   "metadata": {},
   "source": [
    "How many pings are left?"
   ]
  },
  {
   "cell_type": "code",
   "execution_count": 252,
   "metadata": {
    "collapsed": false
   },
   "outputs": [
    {
     "data": {
      "text/plain": [
       "3296"
      ]
     },
     "execution_count": 252,
     "metadata": {},
     "output_type": "execute_result"
    }
   ],
   "source": [
    "experiment_data.count()"
   ]
  },
  {
   "cell_type": "markdown",
   "metadata": {},
   "source": [
    "Normalize number of samples."
   ]
  },
  {
   "cell_type": "code",
   "execution_count": 253,
   "metadata": {
    "collapsed": false
   },
   "outputs": [],
   "source": [
    "c = experiment_data.map(lambda d: (d[\"environment/addons/activeExperiment/branch\"])).countByValue()\n",
    "normalized_c = min(c[\"control\"], c[\"unified\"])\n",
    "control_data = sc.parallelize(experiment_data.filter(lambda d: d[\"environment/addons/activeExperiment/branch\"] == \"control\").take(normalized_c))\n",
    "unified_data = sc.parallelize(experiment_data.filter(lambda d: d[\"environment/addons/activeExperiment/branch\"] == \"unified\").take(normalized_c))\n",
    "customized_data = experiment_data.filter(lambda d: d[\"environment/addons/activeExperiment/branch\"] == \"customized\")"
   ]
  },
  {
   "cell_type": "markdown",
   "metadata": {},
   "source": [
    "Analyze data."
   ]
  },
  {
   "cell_type": "code",
   "execution_count": 254,
   "metadata": {
    "collapsed": false
   },
   "outputs": [],
   "source": [
    "class Accumulator():\n",
    "    def __init__(self, cx):\n",
    "        # number of analyzed pings\n",
    "        self.ping_count = cx.accumulator(0)\n",
    "        # number of searches from the search bar\n",
    "        self.searchbar_searches = cx.accumulator(0)\n",
    "        # search coming from urlbar oneoff\n",
    "        self.from_searchbar_oneoff = cx.accumulator(0)\n",
    "        # number of searches from the urlbar\n",
    "        self.urlbar_searches = cx.accumulator(0)\n",
    "        # search coming from urlbar suggestion\n",
    "        self.from_urlbar_suggestion = cx.accumulator(0)\n",
    "        # search coming from urlbar oneoff\n",
    "        self.from_urlbar_oneoff = cx.accumulator(0)\n",
    "        # has urlbar suggestions enabled\n",
    "        self.has_suggestions = cx.accumulator(0)\n",
    "        # made urlbar suggestions choice\n",
    "        self.made_choice = cx.accumulator(0)\n",
    "        # disabled urlbar suggestions\n",
    "        self.disabled_suggestions = cx.accumulator(0)\n",
    "        # search bar on nav-bar\n",
    "        self.has_searchbar = cx.accumulator(0)\n",
    "        # did any search\n",
    "        self.ping_has_searches = cx.accumulator(0)\n",
    "        # total number of searches\n",
    "        self.total_searches = cx.accumulator(0)\n",
    "        # searchbar settings\n",
    "        self.searchbar_settings = cx.accumulator(0)\n",
    "        # urlbar settings\n",
    "        self.urlbar_settings = cx.accumulator(0)\n",
    "\n",
    "def process_data(acc, d):\n",
    "    acc.ping_count.add(1)\n",
    "\n",
    "    has_suggestions = d[\"environment/settings/userPrefs/browser.urlbar.suggest.searches\"]\n",
    "    if has_suggestions is True:\n",
    "        acc.has_suggestions.add(1)\n",
    "\n",
    "    made_choice = d[\"environment/settings/userPrefs/browser.urlbar.userMadeSearchSuggestionsChoice\"]\n",
    "    if made_choice is True:\n",
    "        acc.made_choice.add(1)\n",
    "        if has_suggestions is not True:\n",
    "            acc.disabled_suggestions.add(1)\n",
    "\n",
    "    ping_has_searches = False\n",
    "    searchbar_searches = d[\"payload/simpleMeasurements/UITelemetry/toolbars/countableEvents/__DEFAULT__/search/searchbar\"]\n",
    "    if searchbar_searches is not None:\n",
    "        acc.searchbar_searches.add(searchbar_searches)\n",
    "        acc.total_searches.add(searchbar_searches)\n",
    "        ping_has_searches = True\n",
    "\n",
    "    urlbar_searches = d[\"payload/simpleMeasurements/UITelemetry/toolbars/countableEvents/__DEFAULT__/search/urlbar\"]\n",
    "    if urlbar_searches is not None:\n",
    "        acc.urlbar_searches.add(urlbar_searches)\n",
    "        acc.total_searches.add(urlbar_searches)\n",
    "        ping_has_searches = True\n",
    "\n",
    "    widgetsInDefaultPosition = d[\"payload/simpleMeasurements/UITelemetry/toolbars/defaultKept\"]\n",
    "    if widgetsInDefaultPosition is not None:\n",
    "        if \"search-container\" in widgetsInDefaultPosition:\n",
    "            acc.has_searchbar.add(1)\n",
    "\n",
    "    urlbar_result = d[\"payload/histograms/FX_URLBAR_SELECTED_RESULT_TYPE\"]\n",
    "    if urlbar_result is not None:\n",
    "        acc.from_urlbar_suggestion.add(int(urlbar_result[5]))\n",
    "\n",
    "    oneoff = d[\"payload/simpleMeasurements/UITelemetry/toolbars/countableEvents/__DEFAULT__/search-oneoff\"]\n",
    "    if oneoff is not None:\n",
    "        urlbar_oneoff = {k:v for (k,v) in oneoff.iteritems() if \"urlbar\" in k}.values()\n",
    "        for o in urlbar_oneoff:\n",
    "            oneoff = {k:v for (k,v) in o.iteritems() if \"unknown\" not in k}.values()\n",
    "            for v in oneoff:\n",
    "                acc.from_urlbar_oneoff.add(sum(v.values()))\n",
    "\n",
    "    oneoff = d[\"payload/simpleMeasurements/UITelemetry/toolbars/countableEvents/__DEFAULT__/search-oneoff\"]\n",
    "    if oneoff is not None:\n",
    "        searchbar_oneoff = {k:v for (k,v) in oneoff.iteritems() if \"urlbar\" not in k}.values()\n",
    "        for o in searchbar_oneoff:\n",
    "            oneoff = {k:v for (k,v) in o.iteritems() if \"oneoff\" in k}.values()\n",
    "            for v in oneoff:\n",
    "                acc.from_searchbar_oneoff.add(sum(v2.values()))\n",
    "                acc.searchbar_searches.add(sum(v2.values()))\n",
    "                acc.total_searches.add(sum(v2.values()))\n",
    "                ping_has_searches = True\n",
    "            other = {k:v for (k,v) in o.iteritems() if \"oneoff\" not in k}.values()\n",
    "            for v in other:\n",
    "                acc.searchbar_searches.add(sum(v.values()))\n",
    "                acc.total_searches.add(sum(v.values()))\n",
    "                ping_has_searches = True\n",
    "\n",
    "    if ping_has_searches is True:\n",
    "        acc.ping_has_searches.add(1)\n",
    "\n",
    "    urlbar_settings = d[\"payload/simpleMeasurements/UITelemetry/toolbars/countableEvents/__DEFAULT__/click-builtin-item/searchbar/search-settings\"]\n",
    "    if urlbar_settings is not None:\n",
    "        acc.urlbar_settings.add(urlbar_settings)\n",
    "\n",
    "    searchbar_settings = d[\"payload/simpleMeasurements/UITelemetry/toolbars/countableEvents/__DEFAULT__/click-builtin-item/searchbar/search-settings\"]\n",
    "    if searchbar_settings is not None:\n",
    "        acc.searchbar_settings.add(searchbar_settings)\n",
    "\n",
    "control = Accumulator(sc)\n",
    "control_data.foreach(lambda d: process_data(control, d))\n",
    "unified = Accumulator(sc)\n",
    "unified_data.foreach(lambda d: process_data(unified, d))\n",
    "customized = Accumulator(sc)\n",
    "customized_data.foreach(lambda d: process_data(customized, d))"
   ]
  },
  {
   "cell_type": "markdown",
   "metadata": {},
   "source": [
    "Print results."
   ]
  },
  {
   "cell_type": "code",
   "execution_count": 255,
   "metadata": {
    "collapsed": false
   },
   "outputs": [
    {
     "name": "stdout",
     "output_type": "stream",
     "text": [
      "                                       control         unified      customized\n",
      "number of users                           1576            1576              91\n",
      "from urlbar & searchbar                   1191             938              52\n",
      "users who searched                       16.3%           13.2%           12.1%\n",
      "\n",
      "from urlbar                              27.0%           54.5%           67.3%\n",
      "  from suggestion                         0.3%            0.6%            0.0%\n",
      "  from one-off                            0.0%            0.8%            5.7%\n",
      "\n",
      "from searchbar                           73.0%           45.5%           32.7%\n",
      "  from one-off                            0.0%            0.0%            0.0%\n",
      "\n",
      "made suggestions choice                  32.2%           30.8%           36.3%\n",
      "  enabled urlbar suggestions             49.8%           52.2%           51.5%\n",
      "  disabled urlbar suggestions            52.6%           50.7%           48.5%\n",
      "\n",
      "searchbar in nav-bar                     99.9%            9.3%           15.4%\n",
      "searchbar settings                        0.0%            0.0%            0.0%\n",
      "urlbar settings                           0.0%            0.0%            0.0%\n"
     ]
    }
   ],
   "source": [
    "def pval(name, type, a1, a2, a3):\n",
    "    print (\"{:30s} {:>15\" + type + \"} {:>15\" + type + \"} {:>15\" + type + \"}\").format(name, a1, a2, a3)\n",
    "\n",
    "def pper(name, v, t, a1, a2, a3):\n",
    "    def perc(acc):\n",
    "          return (float(getattr(acc, v).value) / getattr(acc, t).value) * 100\n",
    "    print (\"{:30s} {:>14.1f}% {:>14.1f}% {:>14.1f}%\").format(name, perc(a1), perc(a2), perc(a3))\n",
    "\n",
    "pval(\"\", \"s\", \"control\", \"unified\", \"customized\")\n",
    "pval(\"number of users\", \"d\", control.ping_count.value, unified.ping_count.value, customized.ping_count.value)\n",
    "pval(\"from urlbar & searchbar\", \"d\", control.total_searches.value, unified.total_searches.value, customized.total_searches.value)\n",
    "pper(\"users who searched\", \"ping_has_searches\", \"ping_count\", control, unified, customized)\n",
    "print \"\"\n",
    "#pval(\"from urlbar\", \"d\", control.urlbar_searches.value, unified.urlbar_searches.value, customized.urlbar_searches.value)\n",
    "pper(\"from urlbar\", \"urlbar_searches\", \"total_searches\", control, unified, customized)\n",
    "#pval(\"  from urlbar suggestion\", \"d\", control.from_urlbar_suggestion.value, unified.from_urlbar_suggestion.value, customized.from_urlbar_suggestion.value)\n",
    "pper(\"  from suggestion\", \"from_urlbar_suggestion\", \"urlbar_searches\", control, unified, customized)\n",
    "#pval(\"  from urlbar one-off\", \"d\", control.from_urlbar_oneoff.value, unified.from_urlbar_oneoff.value, customized.from_urlbar_oneoff.value)\n",
    "pper(\"  from one-off\", \"from_urlbar_oneoff\", \"urlbar_searches\", control, unified, customized)\n",
    "print \"\"\n",
    "pper(\"from searchbar\", \"searchbar_searches\", \"total_searches\", control, unified, customized)\n",
    "#pval(\"  from searchbar one-off\", \"d\", control.from_searchbar_oneoff.value, unified.from_searchbar_oneoff.value, customized.from_searchbar_oneoff.value)\n",
    "pper(\"  from one-off\", \"from_searchbar_oneoff\", \"searchbar_searches\", control, unified, customized)\n",
    "print \"\"\n",
    "pper(\"made suggestions choice\", \"made_choice\", \"ping_count\", control, unified, customized)\n",
    "pper(\"  enabled urlbar suggestions\", \"has_suggestions\", \"made_choice\", control, unified, customized)\n",
    "pper(\"  disabled urlbar suggestions\", \"disabled_suggestions\", \"made_choice\", control, unified, customized)\n",
    "print \"\"\n",
    "pper(\"searchbar in nav-bar\", \"has_searchbar\", \"ping_count\", control, unified, customized)\n",
    "pper(\"searchbar settings\", \"searchbar_settings\", \"ping_count\", control, unified, customized)\n",
    "pper(\"urlbar settings\", \"urlbar_settings\", \"ping_count\", control, unified, customized)"
   ]
  },
  {
   "cell_type": "code",
   "execution_count": null,
   "metadata": {
    "collapsed": true
   },
   "outputs": [],
   "source": []
  }
 ],
 "metadata": {
  "kernelspec": {
   "display_name": "Python 2",
   "language": "python",
   "name": "python2"
  },
  "language_info": {
   "codemirror_mode": {
    "name": "ipython",
    "version": 2
   },
   "file_extension": ".py",
   "mimetype": "text/x-python",
   "name": "python",
   "nbconvert_exporter": "python",
   "pygments_lexer": "ipython2",
   "version": "2.7.11"
  }
 },
 "nbformat": 4,
 "nbformat_minor": 0
}

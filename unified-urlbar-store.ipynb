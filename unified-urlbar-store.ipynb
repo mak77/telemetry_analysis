{
 "cells": [
  {
   "cell_type": "markdown",
   "metadata": {},
   "source": [
    "Telemetry analysis for unified-urlbar experiment.\n",
    "https://bugzilla.mozilla.org/show_bug.cgi?id=1219505"
   ]
  },
  {
   "cell_type": "code",
   "execution_count": 1,
   "metadata": {
    "collapsed": false
   },
   "outputs": [
    {
     "name": "stdout",
     "output_type": "stream",
     "text": [
      "Unable to parse whitelist (/home/hadoop/anaconda2/lib/python2.7/site-packages/moztelemetry/bucket-whitelist.json). Assuming all histograms are acceptable.\n",
      "Populating the interactive namespace from numpy and matplotlib\n"
     ]
    },
    {
     "name": "stderr",
     "output_type": "stream",
     "text": [
      "/home/hadoop/anaconda2/lib/python2.7/site-packages/matplotlib/font_manager.py:273: UserWarning: Matplotlib is building the font cache using fc-list. This may take a moment.\n",
      "  warnings.warn('Matplotlib is building the font cache using fc-list. This may take a moment.')\n"
     ]
    }
   ],
   "source": [
    "import pandas as pd\n",
    "import ujson as json\n",
    "import numpy as np\n",
    "\n",
    "from moztelemetry import get_pings, get_pings_properties, get_one_ping_per_client\n",
    "\n",
    "%pylab inline"
   ]
  },
  {
   "cell_type": "markdown",
   "metadata": {},
   "source": [
    "Define the pings we care about.\n",
    "The experiment ran on Firefox Beta 44 and 45, between Jan 11th and Feb 24th.\n",
    "We care about \"main\" telemetry pings.\n",
    "\n",
    "NOTE: For now, while we are developing the notebook, we only take a small fraction for a single day."
   ]
  },
  {
   "cell_type": "code",
   "execution_count": 2,
   "metadata": {
    "collapsed": false
   },
   "outputs": [
    {
     "data": {
      "text/plain": [
       "22925554"
      ]
     },
     "execution_count": 2,
     "metadata": {},
     "output_type": "execute_result"
    }
   ],
   "source": [
    "PING_OPTIONS = {\n",
    "    \"app\": \"Firefox\",\n",
    "    \"channel\": \"beta\",\n",
    "    \"version\": (\"44.0\", \"45.0\"),\n",
    "    \"build_id\": \"*\",\n",
    "    \"submission_date\": (\"20160113\", \"20160203\"),\n",
    "    \"fraction\": 0.1\n",
    "}\n",
    "pings = get_pings(sc, doc_type=\"main\", **PING_OPTIONS)\n",
    "\n",
    "pings.count()"
   ]
  },
  {
   "cell_type": "markdown",
   "metadata": {},
   "source": [
    "We only need a subset of the ping data."
   ]
  },
  {
   "cell_type": "code",
   "execution_count": 3,
   "metadata": {
    "collapsed": false
   },
   "outputs": [],
   "source": [
    "pings_data = get_pings_properties(pings,\n",
    "                                  [\"clientId\",\n",
    "                                   \"environment/addons/activeExperiment/id\",\n",
    "                                   \"environment/addons/activeExperiment/branch\",\n",
    "                                   \"environment/settings/defaultSearchEngine\",\n",
    "                                   \"environment/settings/userPrefs/browser.urlbar.suggest.searches\",\n",
    "                                   \"environment/settings/userPrefs/browser.urlbar.userMadeSearchSuggestionsChoice\",\n",
    "                                   \"payload/simpleMeasurements/UITelemetry/toolbars/defaultKept\",\n",
    "                                   \"payload/simpleMeasurements/UITelemetry/toolbars/countableEvents/__DEFAULT__/search/searchbar\",\n",
    "                                   \"payload/simpleMeasurements/UITelemetry/toolbars/countableEvents/__DEFAULT__/search/urlbar\",\n",
    "                                   \"payload/simpleMeasurements/UITelemetry/toolbars/countableEvents/__DEFAULT__/search/abouthome\",\n",
    "                                   \"payload/simpleMeasurements/UITelemetry/toolbars/countableEvents/__DEFAULT__/search/newtab\",\n",
    "                                   \"payload/simpleMeasurements/UITelemetry/toolbars/countableEvents/__DEFAULT__/search-oneoff\",\n",
    "                                   \"payload/simpleMeasurements/UITelemetry/toolbars/countableEvents/__DEFAULT__/click-builtin-item/urlbar/search-settings\",\n",
    "                                   \"payload/simpleMeasurements/UITelemetry/toolbars/countableEvents/__DEFAULT__/click-builtin-item/searchbar/search-settings\",\n",
    "                                   \"payload/histograms/FX_URLBAR_SELECTED_RESULT_TYPE\"])"
   ]
  },
  {
   "cell_type": "markdown",
   "metadata": {},
   "source": [
    "To prevent pseudoreplication, let's consider only a single submission for each client. As this step requires a distributed shuffle, it should always be run only after extracting the attributes of interest with get_pings_properties."
   ]
  },
  {
   "cell_type": "code",
   "execution_count": 4,
   "metadata": {
    "collapsed": false
   },
   "outputs": [
    {
     "data": {
      "text/plain": [
       "4093667"
      ]
     },
     "execution_count": 4,
     "metadata": {},
     "output_type": "execute_result"
    }
   ],
   "source": [
    "pings_data = get_one_ping_per_client(pings_data)\n",
    "pings_data.count()"
   ]
  },
  {
   "cell_type": "markdown",
   "metadata": {},
   "source": [
    "Only consider pings from users having the experiment.\n",
    "Also discard users not having a default urlbar."
   ]
  },
  {
   "cell_type": "code",
   "execution_count": 5,
   "metadata": {
    "collapsed": false
   },
   "outputs": [],
   "source": [
    "def experiment_filter(d):\n",
    "    toolbar = d[\"payload/simpleMeasurements/UITelemetry/toolbars/defaultKept\"]\n",
    "    try:\n",
    "        return d[\"environment/addons/activeExperiment/id\"] == \"unified-urlbar@experiments.mozilla.org\" \\\n",
    "            and d[\"environment/addons/activeExperiment/branch\"] in (\"control\", \"unified\", \"customized\") \\\n",
    "            and toolbar is not None and \"urlbar-container\" in toolbar\n",
    "    except KeyError:\n",
    "        raise ValueError(\"Whoa nellie, missing a key: \" + repr(d))\n",
    "\n",
    "experiment_data = pings_data.filter(experiment_filter).cache()"
   ]
  },
  {
   "cell_type": "markdown",
   "metadata": {},
   "source": [
    "How many pings are left?"
   ]
  },
  {
   "cell_type": "code",
   "execution_count": 6,
   "metadata": {
    "collapsed": false
   },
   "outputs": [
    {
     "data": {
      "text/plain": [
       "255483"
      ]
     },
     "execution_count": 6,
     "metadata": {},
     "output_type": "execute_result"
    }
   ],
   "source": [
    "experiment_data.count()"
   ]
  },
  {
   "cell_type": "markdown",
   "metadata": {},
   "source": [
    "Fix non serializable values."
   ]
  },
  {
   "cell_type": "code",
   "execution_count": 7,
   "metadata": {
    "collapsed": false
   },
   "outputs": [],
   "source": [
    "def process_data(d):\n",
    "    urlbar_result = d[\"payload/histograms/FX_URLBAR_SELECTED_RESULT_TYPE\"]\n",
    "    if urlbar_result is not None:\n",
    "        d[\"payload/histograms/FX_URLBAR_SELECTED_RESULT_TYPE\"] = int(urlbar_result[5])\n",
    "\n",
    "    widgetsInDefaultPosition = d[\"payload/simpleMeasurements/UITelemetry/toolbars/defaultKept\"]\n",
    "    if widgetsInDefaultPosition is not None:\n",
    "        d[\"payload/simpleMeasurements/UITelemetry/toolbars/defaultKept\"] = \"search-container\" in widgetsInDefaultPosition\n",
    "    return d\n",
    "\n",
    "serializable_data = experiment_data.map(lambda d: process_data(d))"
   ]
  },
  {
   "cell_type": "markdown",
   "metadata": {},
   "source": [
    "Store the experiment data for later analysis"
   ]
  },
  {
   "cell_type": "code",
   "execution_count": 8,
   "metadata": {
    "collapsed": false
   },
   "outputs": [],
   "source": [
    "s3_path = \"s3n://net-mozaws-prod-us-west-2-pipeline-analysis/mak/unified-urlbar/v1/\"\n",
    "serializable_data.saveAsTextFile(s3_path)"
   ]
  },
  {
   "cell_type": "code",
   "execution_count": null,
   "metadata": {
    "collapsed": true
   },
   "outputs": [],
   "source": []
  }
 ],
 "metadata": {
  "kernelspec": {
   "display_name": "Python 2",
   "language": "python",
   "name": "python2"
  },
  "language_info": {
   "codemirror_mode": {
    "name": "ipython",
    "version": 2
   },
   "file_extension": ".py",
   "mimetype": "text/x-python",
   "name": "python",
   "nbconvert_exporter": "python",
   "pygments_lexer": "ipython2",
   "version": "2.7.11"
  }
 },
 "nbformat": 4,
 "nbformat_minor": 0
}
